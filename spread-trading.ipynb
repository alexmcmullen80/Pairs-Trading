{
 "cells": [
  {
   "cell_type": "code",
   "execution_count": null,
   "id": "c4795f89",
   "metadata": {},
   "outputs": [],
   "source": [
    "from dotenv import load_dotenv\n",
    "import os\n",
    "from alpaca.data.historical import StockHistoricalDataClient\n",
    "from alpaca.data.requests import StockBarsRequest\n",
    "from alpaca.data.timeframe import TimeFrame\n",
    "from datetime import datetime, timedelta\n",
    "\n",
    "load_dotenv()\n",
    "API_KEY = os.environ.get(\"API_KEY\")\n",
    "SECRET_KEY = os.environ.get(\"SECRET_KEY\")\n"
   ]
  },
  {
   "cell_type": "code",
   "execution_count": 14,
   "id": "5f7755d5",
   "metadata": {},
   "outputs": [
    {
     "name": "stdout",
     "output_type": "stream",
     "text": [
      "      symbol                 timestamp      open      high       low  \\\n",
      "0       NVDA 2025-07-25 18:52:00+00:00  173.6700  173.6800  173.5800   \n",
      "1       NVDA 2025-07-25 18:53:00+00:00  173.5853  173.6200  173.5514   \n",
      "2       NVDA 2025-07-25 18:54:00+00:00  173.5800  173.5900  173.5300   \n",
      "3       NVDA 2025-07-25 18:55:00+00:00  173.5500  173.6350  173.5200   \n",
      "4       NVDA 2025-07-25 18:56:00+00:00  173.6000  173.6700  173.5600   \n",
      "...      ...                       ...       ...       ...       ...   \n",
      "18814    AMD 2025-08-08 18:47:00+00:00  171.3850  171.4800  171.3200   \n",
      "18815    AMD 2025-08-08 18:48:00+00:00  171.4501  171.6699  171.4200   \n",
      "18816    AMD 2025-08-08 18:49:00+00:00  171.6325  171.8000  171.5700   \n",
      "18817    AMD 2025-08-08 18:50:00+00:00  171.7895  171.8000  171.4301   \n",
      "18818    AMD 2025-08-08 18:51:00+00:00  171.4700  171.6700  171.4623   \n",
      "\n",
      "          close    volume  trade_count        vwap  \n",
      "0      173.5899  105924.0       1156.0  173.616945  \n",
      "1      173.5900  204397.0       1280.0  173.582441  \n",
      "2      173.5520  123005.0       1394.0  173.557035  \n",
      "3      173.6033  150290.0       1511.0  173.588083  \n",
      "4      173.6500  154376.0       1299.0  173.628439  \n",
      "...         ...       ...          ...         ...  \n",
      "18814  171.4500   51312.0        608.0  171.403560  \n",
      "18815  171.6463   97004.0       1012.0  171.538679  \n",
      "18816  171.7900  185481.0       1864.0  171.722683  \n",
      "18817  171.4700  119974.0       1197.0  171.618472  \n",
      "18818  171.5638   81026.0        776.0  171.589549  \n",
      "\n",
      "[18819 rows x 9 columns]\n"
     ]
    }
   ],
   "source": [
    "# Create the client\n",
    "client = StockHistoricalDataClient(API_KEY, SECRET_KEY)\n",
    "\n",
    "# Define date range\n",
    "end_date = datetime.now()\n",
    "start_date = end_date - timedelta(days=14)  # last 5 days of intraday\n",
    "\n",
    "# Create request for NVDA\n",
    "request = StockBarsRequest(\n",
    "    symbol_or_symbols=[\"NVDA\", \"AMD\"],\n",
    "    timeframe=TimeFrame.Minute,\n",
    "    start=start_date,\n",
    "    end=end_date\n",
    ")\n",
    "\n",
    "\n",
    "# Fetch data\n",
    "bars = client.get_stock_bars(request)\n",
    "\n",
    "# # Convert to DataFrames\n",
    "df = bars.df.reset_index()\n",
    "# df_amd = bars_amd.df.reset_index()\n",
    "\n",
    "print(df)\n",
    "# print(df_amd.head())"
   ]
  }
 ],
 "metadata": {
  "kernelspec": {
   "display_name": "myenv",
   "language": "python",
   "name": "python3"
  },
  "language_info": {
   "codemirror_mode": {
    "name": "ipython",
    "version": 3
   },
   "file_extension": ".py",
   "mimetype": "text/x-python",
   "name": "python",
   "nbconvert_exporter": "python",
   "pygments_lexer": "ipython3",
   "version": "3.12.4"
  }
 },
 "nbformat": 4,
 "nbformat_minor": 5
}
